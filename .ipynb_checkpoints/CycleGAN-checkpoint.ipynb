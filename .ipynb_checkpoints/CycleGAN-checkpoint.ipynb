{
 "cells": [
  {
   "cell_type": "markdown",
   "metadata": {},
   "source": [
    "### read image data"
   ]
  },
  {
   "cell_type": "code",
   "execution_count": 2,
   "metadata": {},
   "outputs": [
    {
     "name": "stdout",
     "output_type": "stream",
     "text": [
      "1072\n",
      "[[[-0.03529412 -0.14509803 -0.24705881]\n",
      "  [ 0.00392163 -0.10588235 -0.20784312]\n",
      "  [ 0.04313731 -0.05098039 -0.1607843 ]\n",
      "  ..., \n",
      "  [ 0.20000005  0.04313731 -0.04313725]\n",
      "  [ 0.17647064  0.02745104 -0.08235294]\n",
      "  [ 0.16078436  0.01176476 -0.09803921]]\n",
      "\n",
      " [[-0.01960784 -0.12941176 -0.23137254]\n",
      "  [ 0.01176476 -0.09803921 -0.19999999]\n",
      "  [ 0.03529418 -0.05882353 -0.15294117]\n",
      "  ..., \n",
      "  [ 0.23137259  0.07450986 -0.01176471]\n",
      "  [ 0.20784318  0.05882359 -0.05098039]\n",
      "  [ 0.19215691  0.04313731 -0.06666666]]\n",
      "\n",
      " [[ 0.00392163 -0.10588235 -0.20784312]\n",
      "  [ 0.01176476 -0.09803921 -0.18431371]\n",
      "  [ 0.02745104 -0.06666666 -0.1607843 ]\n",
      "  ..., \n",
      "  [ 0.21568632  0.05882359 -0.02745098]\n",
      "  [ 0.20000005  0.05098045 -0.05882353]\n",
      "  [ 0.18431377  0.03529418 -0.0745098 ]]\n",
      "\n",
      " ..., \n",
      " [[ 0.27843142  0.18431377  0.05882359]\n",
      "  [ 0.41960788  0.32549024  0.21568632]\n",
      "  [ 0.34901965  0.25490201  0.16078436]\n",
      "  ..., \n",
      "  [ 0.06666672 -0.20784312 -0.4588235 ]\n",
      "  [ 0.02745104 -0.24705881 -0.49803919]\n",
      "  [ 0.02745104 -0.24705881 -0.49803919]]\n",
      "\n",
      " [[ 0.25490201  0.1686275   0.02745104]\n",
      "  [ 0.34901965  0.25490201  0.14509809]\n",
      "  [ 0.34901965  0.24705887  0.17647064]\n",
      "  ..., \n",
      "  [-0.00392157 -0.28627449 -0.5529412 ]\n",
      "  [-0.11372548 -0.38039213 -0.65490198]\n",
      "  [-0.09803921 -0.36470586 -0.63921571]]\n",
      "\n",
      " [[ 0.23137259  0.14509809  0.00392163]\n",
      "  [ 0.27843142  0.18431377  0.05882359]\n",
      "  [ 0.33333337  0.23137259  0.16078436]\n",
      "  ..., \n",
      "  [-0.02745098 -0.3098039  -0.57647061]\n",
      "  [-0.14509803 -0.41176468 -0.7019608 ]\n",
      "  [-0.11372548 -0.38039213 -0.67058825]]]\n"
     ]
    }
   ],
   "source": [
    "import tensorflow as tf\n",
    "import matplotlib.pyplot as plt \n",
    "\n",
    "train_a_files = tf.train.match_filenames_once(\"/Users/zjucx/Documents/Github/GAN/dataset/input/monet2photo/trainA/*.jpg\")    \n",
    "train_b_files = tf.train.match_filenames_once(\"/Users/zjucx/Documents/Github/GAN/dataset/input/monet2photo/trainB/*.jpg\")    \n",
    "\n",
    "\n",
    "train_a_queue = tf.train.string_input_producer(train_a_files)\n",
    "train_b_queue = tf.train.string_input_producer(train_b_files)\n",
    "\n",
    "\n",
    "image_reader = tf.WholeFileReader()\n",
    "_, image_a = image_reader.read(train_a_queue)\n",
    "_, image_b = image_reader.read(train_b_queue)\n",
    "\n",
    "image_A = tf.subtract(tf.div(tf.image.resize_images(tf.image.decode_jpeg(image_a),[256,256]),127.5),1)\n",
    "image_B = tf.subtract(tf.div(tf.image.resize_images(tf.image.decode_jpeg(image_b),[256,256]),127.5),1)\n",
    "\n",
    "\n",
    "\n",
    "with tf.Session() as sess:\n",
    "    sess.run([tf.global_variables_initializer(), tf.local_variables_initializer()])\n",
    "    \n",
    "    # Loading images into the tensors\n",
    "    coord = tf.train.Coordinator()\n",
    "    threads = tf.train.start_queue_runners(coord=coord)\n",
    "    print(sess.run(tf.size(train_a_files)))\n",
    "    plt.imshow(sess.run(image_A))\n",
    "    coord.request_stop()\n",
    "    coord.join(threads)\n"
   ]
  },
  {
   "cell_type": "code",
   "execution_count": null,
   "metadata": {
    "collapsed": true
   },
   "outputs": [],
   "source": []
  },
  {
   "cell_type": "code",
   "execution_count": null,
   "metadata": {
    "collapsed": true
   },
   "outputs": [],
   "source": []
  }
 ],
 "metadata": {
  "kernelspec": {
   "display_name": "Python 3",
   "language": "python",
   "name": "python3"
  },
  "language_info": {
   "codemirror_mode": {
    "name": "ipython",
    "version": 3
   },
   "file_extension": ".py",
   "mimetype": "text/x-python",
   "name": "python",
   "nbconvert_exporter": "python",
   "pygments_lexer": "ipython3",
   "version": "3.6.2"
  }
 },
 "nbformat": 4,
 "nbformat_minor": 2
}
